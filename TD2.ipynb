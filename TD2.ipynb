{
 "cells": [
  {
   "cell_type": "markdown",
   "id": "3c6c5669-9110-4e29-a739-2b7cf98e1b85",
   "metadata": {},
   "source": [
    "# TD 2"
   ]
  },
  {
   "cell_type": "markdown",
   "id": "46889f17-d0c5-4eec-ae84-4badb78636c8",
   "metadata": {},
   "source": [
    "# Exercice 8"
   ]
  },
  {
   "cell_type": "code",
   "execution_count": 3,
   "id": "37725637-048f-4cd6-a8c9-edc64db2177d",
   "metadata": {},
   "outputs": [
    {
     "name": "stdout",
     "output_type": "stream",
     "text": [
      "u_0 = 1\n",
      "u_1 = 1.0\n",
      "u_2 = 0.5\n",
      "u_3 = 0.16666666666666669\n",
      "u_4 = 0.04166666666666667\n",
      "u_5 = 0.008333333333333335\n",
      "u_6 = 0.0013888888888888894\n",
      "u_7 = 0.0001984126984126985\n",
      "u_8 = 2.4801587301587315e-05\n",
      "u_9 = 2.7557319223985914e-06\n"
     ]
    }
   ],
   "source": [
    "import numpy as np\n",
    "from scipy.integrate import quad\n",
    "\n",
    "# Définir la suite\n",
    "def compute_u(n_terms=10):\n",
    "    u = [1]  # u0 = 1\n",
    "    for n in range(n_terms - 1):\n",
    "        # Définir l'intégrande : u[n] * x^n\n",
    "        integrand = lambda x: u[n] * x**n\n",
    "        # Calculer l'intégrale de 0 à 1\n",
    "        integral, _ = quad(integrand, 0, 1)\n",
    "        u.append(integral)\n",
    "    return u\n",
    "\n",
    "# Calculer les 10 premiers termes\n",
    "u_values = compute_u(10)\n",
    "\n",
    "# Afficher les résultats\n",
    "for i, val in enumerate(u_values):\n",
    "    print(f\"u_{i} = {val}\")\n"
   ]
  },
  {
   "cell_type": "markdown",
   "id": "4479be6f-39da-46a8-8ed9-71e1cc8429be",
   "metadata": {},
   "source": [
    "# Exercice 9"
   ]
  },
  {
   "cell_type": "code",
   "execution_count": 4,
   "id": "d5b7fdee-d300-4f44-980e-21f660261d09",
   "metadata": {},
   "outputs": [],
   "source": [
    "def aitken(u):\n",
    "    \"\"\"Renvoie la suite accélérée par la méthode d'Aitken.\"\"\"\n",
    "    return [u[n] - (u[n+1] - u[n])**2 / (u[n+2] - 2*u[n+1] + u[n])\n",
    "            for n in range(len(u) - 2)]\n"
   ]
  },
  {
   "cell_type": "code",
   "execution_count": 5,
   "id": "a0c733b7-23a5-4080-acbe-586356227338",
   "metadata": {},
   "outputs": [
    {
     "name": "stdout",
     "output_type": "stream",
     "text": [
      "n= 1 : u_n = 1.000000, u'_n = 2.500000\n",
      "n= 2 : u_n = 1.500000, u'_n = 2.833333\n",
      "n= 3 : u_n = 1.833333, u'_n = 3.083333\n",
      "n= 4 : u_n = 2.083333, u'_n = 3.283333\n",
      "n= 5 : u_n = 2.283333, u'_n = 3.450000\n",
      "n= 6 : u_n = 2.450000, u'_n = 3.592857\n",
      "n= 7 : u_n = 2.592857, u'_n = 3.717857\n",
      "n= 8 : u_n = 2.717857, u'_n = 3.828968\n",
      "n= 9 : u_n = 2.828968, u'_n = 3.928968\n",
      "n=10 : u_n = 2.928968, u'_n = 4.019877\n",
      "n=11 : u_n = 3.019877, u'_n = 4.103211\n",
      "n=12 : u_n = 3.103211, u'_n = 4.180134\n",
      "n=13 : u_n = 3.180134, u'_n = 4.251562\n",
      "n=14 : u_n = 3.251562, u'_n = 4.318229\n",
      "n=15 : u_n = 3.318229, u'_n = 4.380729\n",
      "n=16 : u_n = 3.380729, u'_n = 4.439553\n",
      "n=17 : u_n = 3.439553, u'_n = 4.495108\n",
      "n=18 : u_n = 3.495108, u'_n = 4.547740\n"
     ]
    }
   ],
   "source": [
    "import numpy as np\n",
    "\n",
    "# Générer les premiers termes de la suite harmonique\n",
    "N = 20\n",
    "u = [sum(1/k for k in range(1, n+1)) for n in range(1, N+1)]\n",
    "\n",
    "# Appliquer Aitken\n",
    "u_acc = aitken(u)\n",
    "\n",
    "# Afficher les résultats\n",
    "for i in range(len(u_acc)):\n",
    "    print(f\"n={i+1:2d} : u_n = {u[i]:.6f}, u'_n = {u_acc[i]:.6f}\")\n"
   ]
  },
  {
   "cell_type": "markdown",
   "id": "6ce2590b-4bf1-46d8-9537-c6bf06b9bec2",
   "metadata": {},
   "source": [
    "# Exercice 10"
   ]
  },
  {
   "cell_type": "code",
   "execution_count": 6,
   "id": "468d8788-28c7-43a0-a44f-17538a89282e",
   "metadata": {},
   "outputs": [],
   "source": [
    "def somme_double(n):\n",
    "    total = 0\n",
    "    for i in range(1, n+1):\n",
    "        total += sum(1 / (i * j) for j in range(1, i+1))\n",
    "    return total\n"
   ]
  },
  {
   "cell_type": "code",
   "execution_count": 7,
   "id": "5cae8c03-21f9-44bd-8099-82a241903cca",
   "metadata": {},
   "outputs": [
    {
     "name": "stdout",
     "output_type": "stream",
     "text": [
      "S(1000) = 28.83810, approximation = (ln n)^2 = 47.71708\n"
     ]
    }
   ],
   "source": [
    "import math\n",
    "\n",
    "n = 1000\n",
    "s = somme_double(n)\n",
    "approx = (math.log(n))**2\n",
    "\n",
    "print(f\"S({n}) = {s:.5f}, approximation = (ln n)^2 = {approx:.5f}\")\n"
   ]
  },
  {
   "cell_type": "markdown",
   "id": "73f5e109-28ae-4b16-88e2-d0f2568b21f2",
   "metadata": {},
   "source": [
    "# Exercice 11"
   ]
  },
  {
   "cell_type": "code",
   "execution_count": 1,
   "id": "7e5b27d8-cb07-4de4-915b-947c85e2ddd1",
   "metadata": {},
   "outputs": [],
   "source": [
    "from fractions import Fraction\n",
    "import math\n",
    "\n",
    "def convergents_sqrt2(n):\n",
    "    conv = []\n",
    "    a = [1] + [2]*(n-1)\n",
    "    for i in range(1, n+1):\n",
    "        frac = Fraction(a[i-1])\n",
    "        for j in reversed(a[:i-1]):\n",
    "            frac = j + 1/frac\n",
    "        conv.append(frac)\n",
    "    return conv\n"
   ]
  },
  {
   "cell_type": "code",
   "execution_count": 2,
   "id": "accf78b1-78a1-4849-92ef-809b392695a3",
   "metadata": {},
   "outputs": [
    {
     "name": "stdout",
     "output_type": "stream",
     "text": [
      "n=1: 1.00000000, erreur = 4.14e-01\n",
      "n=2: 1.50000000, erreur = 8.58e-02\n",
      "n=3: 1.40000000, erreur = 1.42e-02\n",
      "n=4: 1.41666667, erreur = 2.45e-03\n",
      "n=5: 1.41379310, erreur = 4.20e-04\n",
      "n=6: 1.41428571, erreur = 7.22e-05\n",
      "n=7: 1.41420118, erreur = 1.24e-05\n",
      "n=8: 1.41421569, erreur = 2.12e-06\n",
      "n=9: 1.41421320, erreur = 3.64e-07\n",
      "n=10: 1.41421362, erreur = 6.25e-08\n"
     ]
    }
   ],
   "source": [
    "conv = convergents_sqrt2(10)\n",
    "for i, frac in enumerate(conv):\n",
    "    print(f\"n={i+1}: {float(frac):.8f}, erreur = {abs(float(frac) - math.sqrt(2)):.2e}\")\n"
   ]
  },
  {
   "cell_type": "markdown",
   "id": "9cd18cfe-3282-4a41-9b84-f65a38c32ce6",
   "metadata": {},
   "source": [
    "# Exercice 12"
   ]
  },
  {
   "cell_type": "code",
   "execution_count": 3,
   "id": "8c27ba2a-64c2-408b-8d6c-9fe9ee8cbf65",
   "metadata": {},
   "outputs": [],
   "source": [
    "from math import gcd\n",
    "\n",
    "def suite_coprime(n):\n",
    "    u = [1]\n",
    "    for _ in range(n - 1):\n",
    "        k = u[-1] + 1\n",
    "        while gcd(k, u[-1]) != 1:\n",
    "            k += 1\n",
    "        u.append(k)\n",
    "    return u\n"
   ]
  },
  {
   "cell_type": "code",
   "execution_count": 4,
   "id": "6f3c4ef0-9d90-42a9-90dc-59a542d366f6",
   "metadata": {},
   "outputs": [
    {
     "name": "stdout",
     "output_type": "stream",
     "text": [
      "[1, 2, 3, 4, 5, 6, 7, 8, 9, 10, 11, 12, 13, 14, 15, 16, 17, 18, 19, 20]\n"
     ]
    }
   ],
   "source": [
    "print(suite_coprime(20))\n"
   ]
  },
  {
   "cell_type": "markdown",
   "id": "f783c59b-ba97-4dd8-b0c0-53a0133f96e4",
   "metadata": {},
   "source": [
    "# Exercice 13"
   ]
  },
  {
   "cell_type": "code",
   "execution_count": 5,
   "id": "6d4b5821-95f6-4ed1-a150-d311757b5567",
   "metadata": {},
   "outputs": [],
   "source": [
    "def suite_non_lineaire(n):\n",
    "    u = [1]\n",
    "    for _ in range(n - 1):\n",
    "        u.append(u[-1] + 1 / u[-1])\n",
    "    return u\n"
   ]
  },
  {
   "cell_type": "code",
   "execution_count": 6,
   "id": "2745264a-86fa-4ea3-b8ea-0823bf74b84a",
   "metadata": {},
   "outputs": [
    {
     "data": {
      "image/png": "[encoded data removed]",
      "text/plain": [
       "<Figure size 640x480 with 1 Axes>"
      ]
     },
     "metadata": {},
     "output_type": "display_data"
    }
   ],
   "source": [
    "import matplotlib.pyplot as plt\n",
    "\n",
    "u = suite_non_lineaire(100)\n",
    "u_squared_minus_2n = [u[i]**2 - 2*i for i in range(len(u))]\n",
    "\n",
    "plt.plot(u, label=\"u_n\")\n",
    "plt.plot(u_squared_minus_2n, label=\"u_n^2 - 2n\")\n",
    "plt.legend()\n",
    "plt.title(\"Comportement de u_n et u_n^2 - 2n\")\n",
    "plt.show()\n"
   ]
  },
  {
   "cell_type": "markdown",
   "id": "95fd7840-a04e-4707-9db2-f14d58fcc86b",
   "metadata": {},
   "source": [
    "# Exercice 14"
   ]
  },
  {
   "cell_type": "code",
   "execution_count": 7,
   "id": "eaf262ab-1474-41ec-a5d6-1a4ed690bab7",
   "metadata": {},
   "outputs": [],
   "source": [
    "import random\n",
    "\n",
    "def markov_chain(p, n):\n",
    "    u = [0]\n",
    "    for _ in range(n):\n",
    "        X = 1 if random.random() < p else -1\n",
    "        u.append(u[-1] + X)\n",
    "    return u\n"
   ]
  },
  {
   "cell_type": "code",
   "execution_count": 8,
   "id": "f1801ffb-f6e5-40b6-91eb-ba0c60aad7cb",
   "metadata": {},
   "outputs": [],
   "source": [
    "def stats(p, n, m=1000):\n",
    "    final_values = []\n",
    "    for _ in range(m):\n",
    "        u = markov_chain(p, n)\n",
    "        final_values.append(u[-1])\n",
    "    mean = sum(final_values) / m\n",
    "    var = sum((x - mean)**2 for x in final_values) / m\n",
    "    return mean, var\n"
   ]
  },
  {
   "cell_type": "code",
   "execution_count": 9,
   "id": "94fae521-294d-4e72-9377-32c3fe1e2525",
   "metadata": {},
   "outputs": [
    {
     "name": "stdout",
     "output_type": "stream",
     "text": [
      "p = 0.5 → moyenne = -0.24, variance = 97.68\n",
      "p = 0.6 → moyenne = 19.91, variance = 105.31\n",
      "p = 0.7 → moyenne = 40.24, variance = 85.48\n"
     ]
    }
   ],
   "source": [
    "for p in [0.5, 0.6, 0.7]:\n",
    "    mean, var = stats(p, 100)\n",
    "    print(f\"p = {p} → moyenne = {mean:.2f}, variance = {var:.2f}\")\n"
   ]
  },
  {
   "cell_type": "code",
   "execution_count": null,
   "id": "81ce0030-c234-4196-8abf-53ac9157e805",
   "metadata": {},
   "outputs": [],
   "source": []
  }
 ],
 "metadata": {
  "kernelspec": {
   "display_name": "Python 3 (ipykernel)",
   "language": "python",
   "name": "python3"
  },
  "language_info": {
   "codemirror_mode": {
    "name": "ipython",
    "version": 3
   },
   "file_extension": ".py",
   "mimetype": "text/x-python",
   "name": "python",
   "nbconvert_exporter": "python",
   "pygments_lexer": "ipython3",
   "version": "3.12.7"
  }
 },
 "nbformat": 4,
 "nbformat_minor": 5
}
